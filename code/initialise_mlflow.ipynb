{
 "cells": [
  {
   "cell_type": "code",
   "execution_count": 1,
   "id": "80bb916e-0083-4e03-9cfe-a6f296190251",
   "metadata": {},
   "outputs": [],
   "source": [
    "import argparse\n",
    "import os\n",
    "import random\n",
    "import shutil\n",
    "import time\n",
    "import warnings\n",
    "\n",
    "import torch\n",
    "import torch.nn as nn\n",
    "import torch.nn.parallel\n",
    "import torch.backends.cudnn as cudnn\n",
    "import torch.distributed as dist\n",
    "import torch.optim\n",
    "import torch.utils.data\n",
    "import torch.utils.data.distributed\n",
    "import torchvision.transforms as transforms\n",
    "import torchvision.datasets as datasets\n",
    "import json\n",
    "import math\n",
    "import numpy as np\n",
    "import matplotlib.pyplot as plt\n",
    "from torchvision import transforms\n",
    "from PIL import Image, ImageDraw\n",
    "#os.chdir('code')\n",
    "\n",
    "from utils.utils import CustomDataset\n",
    "from models.model_SE import *\n",
    "from models.model_ECA import *\n",
    "from utils.helper import *"
   ]
  },
  {
   "cell_type": "code",
   "execution_count": 5,
   "id": "265c0468-2197-4001-9aef-f094d65d5e5e",
   "metadata": {},
   "outputs": [],
   "source": [
    "with open('eval_metrics/training_dice_ECA.json') as json_data:\n",
    "    training_dice_ECA = json.load(json_data)\n",
    "\n",
    "with open('eval_metrics/training_loss_ECA.json') as json_data:\n",
    "    training_loss_ECA = json.load(json_data)"
   ]
  },
  {
   "cell_type": "code",
   "execution_count": 14,
   "id": "a01683a8-090f-40f4-9386-d79fdc33908d",
   "metadata": {},
   "outputs": [
    {
     "name": "stderr",
     "output_type": "stream",
     "text": [
      "2023/11/07 06:34:30 INFO mlflow.tracking.fluent: Experiment with name 'doctor_derma' does not exist. Creating a new experiment.\n"
     ]
    }
   ],
   "source": [
    "import mlflow\n",
    "mlflow.set_tracking_uri(\"http://host.docker.internal:5001\")\n",
    "\n",
    "mlflow.set_experiment('doctor_derma')\n",
    "\n",
    "# Start a new MLflow run\n",
    "with mlflow.start_run(run_name='Efficient Channel Attention') as run:\n",
    "\n",
    "    # Log each epoch's dice and loss\n",
    "    for epoch in sorted(training_dice_ECA):\n",
    "        mlflow.log_metric(key='dice', value=training_dice_ECA[epoch], step=int(epoch))\n",
    "        mlflow.log_metric(key='loss', value=training_loss_ECA[epoch], step=int(epoch))"
   ]
  },
  {
   "cell_type": "code",
   "execution_count": null,
   "id": "8a396e56-b4fb-4a23-89fd-bbe23c20a2b4",
   "metadata": {},
   "outputs": [],
   "source": []
  },
  {
   "cell_type": "code",
   "execution_count": null,
   "id": "b19d0c3f-968c-4e6f-83ec-3b6201255019",
   "metadata": {},
   "outputs": [],
   "source": []
  }
 ],
 "metadata": {
  "kernelspec": {
   "display_name": "Python 3 (ipykernel)",
   "language": "python",
   "name": "python3"
  },
  "language_info": {
   "codemirror_mode": {
    "name": "ipython",
    "version": 3
   },
   "file_extension": ".py",
   "mimetype": "text/x-python",
   "name": "python",
   "nbconvert_exporter": "python",
   "pygments_lexer": "ipython3",
   "version": "3.10.13"
  }
 },
 "nbformat": 4,
 "nbformat_minor": 5
}
