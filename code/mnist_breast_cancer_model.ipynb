{
 "cells": [
  {
   "cell_type": "code",
   "execution_count": 4,
   "id": "4a7c350a-b4e0-4276-ba96-f626540cc8ed",
   "metadata": {},
   "outputs": [
    {
     "name": "stdout",
     "output_type": "stream",
     "text": [
      "Accuracy: 97.08%\n",
      "Model saved successfully.\n"
     ]
    }
   ],
   "source": [
    "from sklearn.datasets import load_breast_cancer\n",
    "from sklearn.ensemble import RandomForestClassifier\n",
    "from sklearn.model_selection import train_test_split\n",
    "from sklearn.metrics import accuracy_score\n",
    "import joblib\n",
    "import os\n",
    "\n",
    "data = load_breast_cancer()\n",
    "X, y = data.data, data.target\n",
    "X_train, X_test, y_train, y_test = train_test_split(X, y, test_size=0.3, random_state=42)\n",
    "\n",
    "clf = RandomForestClassifier(n_estimators=100, random_state=42)\n",
    "\n",
    "clf.fit(X_train, y_train)\n",
    "\n",
    "y_pred = clf.predict(X_test)\n",
    "\n",
    "accuracy = accuracy_score(y_test, y_pred)\n",
    "print(f\"Accuracy: {accuracy * 100:.2f}%\")\n",
    "\n",
    "model_dir = 'trained_models/RandomForest'\n",
    "\n",
    "if not os.path.exists(model_dir):\n",
    "    os.makedirs(model_dir)\n",
    "\n",
    "# Path to save the model\n",
    "model_path = os.path.join(model_dir, 'breast_cancer_random_forest_model.joblib')\n",
    "\n",
    "# Save the model to a file\n",
    "joblib.dump(clf, model_path)\n",
    "\n",
    "print(\"Model saved successfully.\")"
   ]
  },
  {
   "cell_type": "code",
   "execution_count": 4,
   "id": "5fff30b3-6a37-457e-b0ef-d5c804c4d177",
   "metadata": {},
   "outputs": [
    {
     "name": "stdout",
     "output_type": "stream",
     "text": [
      "Model saved successfully.\n"
     ]
    }
   ],
   "source": [
    "import os\n"
   ]
  },
  {
   "cell_type": "code",
   "execution_count": null,
   "id": "5b99f553-8bad-4663-9d2f-86b35dea28b0",
   "metadata": {},
   "outputs": [],
   "source": []
  },
  {
   "cell_type": "code",
   "execution_count": 29,
   "id": "39964b1a-87fa-4d3e-b19b-256da47907a7",
   "metadata": {},
   "outputs": [
    {
     "name": "stdout",
     "output_type": "stream",
     "text": [
      "returned prediction: {'prediction': 1}, actual diagnosis: 1\n",
      "returned prediction: {'prediction': 0}, actual diagnosis: 0\n",
      "returned prediction: {'prediction': 0}, actual diagnosis: 0\n",
      "returned prediction: {'prediction': 1}, actual diagnosis: 1\n",
      "returned prediction: {'prediction': 1}, actual diagnosis: 1\n",
      "returned prediction: {'prediction': 0}, actual diagnosis: 0\n",
      "returned prediction: {'prediction': 0}, actual diagnosis: 0\n",
      "returned prediction: {'prediction': 0}, actual diagnosis: 0\n",
      "returned prediction: {'prediction': 0}, actual diagnosis: 1\n",
      "returned prediction: {'prediction': 1}, actual diagnosis: 1\n",
      "returned prediction: {'prediction': 1}, actual diagnosis: 1\n",
      "returned prediction: {'prediction': 0}, actual diagnosis: 0\n",
      "returned prediction: {'prediction': 1}, actual diagnosis: 1\n",
      "returned prediction: {'prediction': 0}, actual diagnosis: 0\n",
      "returned prediction: {'prediction': 1}, actual diagnosis: 1\n",
      "returned prediction: {'prediction': 0}, actual diagnosis: 0\n",
      "returned prediction: {'prediction': 1}, actual diagnosis: 1\n",
      "returned prediction: {'prediction': 1}, actual diagnosis: 1\n",
      "returned prediction: {'prediction': 1}, actual diagnosis: 1\n",
      "returned prediction: {'prediction': 0}, actual diagnosis: 0\n",
      "returned prediction: {'prediction': 1}, actual diagnosis: 0\n",
      "returned prediction: {'prediction': 1}, actual diagnosis: 1\n",
      "returned prediction: {'prediction': 0}, actual diagnosis: 0\n",
      "returned prediction: {'prediction': 1}, actual diagnosis: 1\n",
      "returned prediction: {'prediction': 1}, actual diagnosis: 1\n",
      "returned prediction: {'prediction': 1}, actual diagnosis: 1\n",
      "returned prediction: {'prediction': 1}, actual diagnosis: 1\n",
      "returned prediction: {'prediction': 1}, actual diagnosis: 1\n",
      "returned prediction: {'prediction': 1}, actual diagnosis: 1\n",
      "returned prediction: {'prediction': 0}, actual diagnosis: 0\n",
      "returned prediction: {'prediction': 1}, actual diagnosis: 1\n",
      "returned prediction: {'prediction': 1}, actual diagnosis: 1\n",
      "returned prediction: {'prediction': 1}, actual diagnosis: 1\n",
      "returned prediction: {'prediction': 1}, actual diagnosis: 1\n",
      "returned prediction: {'prediction': 1}, actual diagnosis: 1\n",
      "returned prediction: {'prediction': 1}, actual diagnosis: 1\n",
      "returned prediction: {'prediction': 0}, actual diagnosis: 0\n",
      "returned prediction: {'prediction': 1}, actual diagnosis: 1\n",
      "returned prediction: {'prediction': 0}, actual diagnosis: 0\n",
      "returned prediction: {'prediction': 1}, actual diagnosis: 1\n",
      "returned prediction: {'prediction': 1}, actual diagnosis: 1\n",
      "returned prediction: {'prediction': 0}, actual diagnosis: 0\n",
      "returned prediction: {'prediction': 1}, actual diagnosis: 1\n",
      "returned prediction: {'prediction': 1}, actual diagnosis: 1\n",
      "returned prediction: {'prediction': 1}, actual diagnosis: 1\n",
      "returned prediction: {'prediction': 1}, actual diagnosis: 1\n",
      "returned prediction: {'prediction': 1}, actual diagnosis: 1\n",
      "returned prediction: {'prediction': 1}, actual diagnosis: 1\n",
      "returned prediction: {'prediction': 1}, actual diagnosis: 1\n",
      "returned prediction: {'prediction': 1}, actual diagnosis: 1\n",
      "returned prediction: {'prediction': 0}, actual diagnosis: 0\n",
      "returned prediction: {'prediction': 0}, actual diagnosis: 0\n",
      "returned prediction: {'prediction': 1}, actual diagnosis: 1\n",
      "returned prediction: {'prediction': 1}, actual diagnosis: 1\n",
      "returned prediction: {'prediction': 1}, actual diagnosis: 1\n",
      "returned prediction: {'prediction': 1}, actual diagnosis: 1\n",
      "returned prediction: {'prediction': 1}, actual diagnosis: 1\n",
      "returned prediction: {'prediction': 0}, actual diagnosis: 0\n",
      "returned prediction: {'prediction': 0}, actual diagnosis: 0\n",
      "returned prediction: {'prediction': 1}, actual diagnosis: 1\n",
      "returned prediction: {'prediction': 1}, actual diagnosis: 1\n",
      "returned prediction: {'prediction': 0}, actual diagnosis: 0\n",
      "returned prediction: {'prediction': 0}, actual diagnosis: 0\n",
      "returned prediction: {'prediction': 1}, actual diagnosis: 1\n",
      "returned prediction: {'prediction': 1}, actual diagnosis: 1\n",
      "returned prediction: {'prediction': 1}, actual diagnosis: 1\n",
      "returned prediction: {'prediction': 0}, actual diagnosis: 0\n",
      "returned prediction: {'prediction': 0}, actual diagnosis: 0\n",
      "returned prediction: {'prediction': 1}, actual diagnosis: 1\n",
      "returned prediction: {'prediction': 1}, actual diagnosis: 1\n",
      "returned prediction: {'prediction': 0}, actual diagnosis: 0\n",
      "returned prediction: {'prediction': 0}, actual diagnosis: 0\n",
      "returned prediction: {'prediction': 1}, actual diagnosis: 1\n",
      "returned prediction: {'prediction': 0}, actual diagnosis: 0\n",
      "returned prediction: {'prediction': 1}, actual diagnosis: 1\n",
      "returned prediction: {'prediction': 1}, actual diagnosis: 1\n",
      "returned prediction: {'prediction': 1}, actual diagnosis: 1\n",
      "returned prediction: {'prediction': 1}, actual diagnosis: 0\n",
      "returned prediction: {'prediction': 1}, actual diagnosis: 1\n",
      "returned prediction: {'prediction': 1}, actual diagnosis: 1\n",
      "returned prediction: {'prediction': 0}, actual diagnosis: 0\n",
      "returned prediction: {'prediction': 1}, actual diagnosis: 1\n",
      "returned prediction: {'prediction': 1}, actual diagnosis: 0\n",
      "returned prediction: {'prediction': 0}, actual diagnosis: 0\n",
      "returned prediction: {'prediction': 0}, actual diagnosis: 0\n",
      "returned prediction: {'prediction': 0}, actual diagnosis: 0\n",
      "returned prediction: {'prediction': 0}, actual diagnosis: 0\n",
      "returned prediction: {'prediction': 0}, actual diagnosis: 0\n",
      "returned prediction: {'prediction': 1}, actual diagnosis: 1\n",
      "returned prediction: {'prediction': 1}, actual diagnosis: 1\n",
      "returned prediction: {'prediction': 1}, actual diagnosis: 1\n",
      "returned prediction: {'prediction': 1}, actual diagnosis: 1\n",
      "returned prediction: {'prediction': 1}, actual diagnosis: 1\n",
      "returned prediction: {'prediction': 1}, actual diagnosis: 1\n",
      "returned prediction: {'prediction': 1}, actual diagnosis: 1\n",
      "returned prediction: {'prediction': 1}, actual diagnosis: 1\n",
      "returned prediction: {'prediction': 0}, actual diagnosis: 0\n",
      "returned prediction: {'prediction': 0}, actual diagnosis: 0\n",
      "returned prediction: {'prediction': 1}, actual diagnosis: 1\n",
      "returned prediction: {'prediction': 0}, actual diagnosis: 0\n"
     ]
    }
   ],
   "source": [
    "\n",
    "import numpy as np\n",
    "\n",
    "for i in range(0, 100):\n",
    "    features = X_test[i].tolist()\n",
    "    \n",
    "    url = 'http://host.docker.internal:5555/predict_rf'\n",
    "    data = {\n",
    "        'data': features  \n",
    "    }\n",
    "    \n",
    "    response = requests.post(url, json=data)\n",
    "    print(f\"returned prediction: {response.json()}, actual diagnosis: {y_test[i]}\")"
   ]
  },
  {
   "cell_type": "code",
   "execution_count": null,
   "id": "37686f89-6893-427a-b20e-9e47aa7d7365",
   "metadata": {},
   "outputs": [],
   "source": []
  },
  {
   "cell_type": "code",
   "execution_count": null,
   "id": "44ad60d9-bef7-4da0-bbb9-41fad7851ac2",
   "metadata": {},
   "outputs": [],
   "source": []
  }
 ],
 "metadata": {
  "kernelspec": {
   "display_name": "Python 3.11.3 64-bit",
   "language": "python",
   "name": "python3"
  },
  "language_info": {
   "codemirror_mode": {
    "name": "ipython",
    "version": 3
   },
   "file_extension": ".py",
   "mimetype": "text/x-python",
   "name": "python",
   "nbconvert_exporter": "python",
   "pygments_lexer": "ipython3",
   "version": "3.11.3"
  },
  "vscode": {
   "interpreter": {
    "hash": "b0fa6594d8f4cbf19f97940f81e996739fb7646882a419484c72d19e05852a7e"
   }
  }
 },
 "nbformat": 4,
 "nbformat_minor": 5
}
